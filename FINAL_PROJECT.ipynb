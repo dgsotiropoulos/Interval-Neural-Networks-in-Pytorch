{
  "nbformat": 4,
  "nbformat_minor": 0,
  "metadata": {
    "colab": {
      "provenance": [],
      "toc_visible": true,
      "include_colab_link": true
    },
    "kernelspec": {
      "name": "python3",
      "display_name": "Python 3"
    },
    "language_info": {
      "name": "python"
    },
    "accelerator": "TPU",
    "gpuClass": "standard"
  },
  "cells": [
    {
      "cell_type": "markdown",
      "metadata": {
        "id": "view-in-github",
        "colab_type": "text"
      },
      "source": [
        "<a href=\"https://colab.research.google.com/github/dgsotiropoulos/Interval-Neural-Networks-in-Pytorch/blob/main/FINAL_PROJECT.ipynb\" target=\"_parent\"><img src=\"https://colab.research.google.com/assets/colab-badge.svg\" alt=\"Open In Colab\"/></a>"
      ]
    },
    {
      "cell_type": "code",
      "execution_count": 5,
      "metadata": {
        "id": "IpJQr7PvYOs6"
      },
      "outputs": [],
      "source": [
        "#ΕΙΣΑΓΩΓΗ ΒΙΒΛΙΟΘΗΚΩΝ\n",
        "########## FINAL PROJECT###############\n",
        "\n",
        "from IPython import get_ipython\n",
        "get_ipython().magic('reset -sf')\n",
        "\n",
        "############ Libraries ###############\n",
        "import pandas as pd\n",
        "import tensorflow as tf\n",
        "import math\n",
        "from sklearn.model_selection import train_test_split\n",
        "from sklearn.preprocessing import MinMaxScaler\n",
        "from tensorflow.keras.models import Sequential\n",
        "from tensorflow.keras.layers import Dense\n",
        "from tensorflow.keras import backend as K\n",
        "from tensorflow.keras.optimizers import Adam\n",
        "import numpy as np\n",
        "import statistics"
      ]
    },
    {
      "cell_type": "code",
      "source": [
        "#ΕΙΣΑΓΩΓΗ ΑΡΧΕΙΟΥ-ΔΙΑΜΕΡΙΣΗ-ΚΑΝΟΝΙΚΟΠΟΙΗΣΗ\n",
        "df = pd.read_csv('ΔΕΔΟΜΕΝΑ ΤΥΧΑΙΟΥ ΠΕΙΡΑΜΑΤΟΣ.csv',header=None,sep=\",\")\n",
        "print(df.shape)\n",
        "# Split data into X and Y\n",
        "X=df.iloc[:,0:3]\n",
        "Y=df.iloc[:,3].values\n",
        "from sklearn.preprocessing import  MinMaxScaler\n",
        "sc= MinMaxScaler()\n",
        "X= sc.fit_transform(X)\n",
        "# Split data into train and test sets\n",
        "X_train, X_test, Y_train, Y_test = train_test_split(X, Y, test_size=0.2)\n"
      ],
      "metadata": {
        "id": "38ygeWr4YgTL",
        "colab": {
          "base_uri": "https://localhost:8080/",
          "height": 397
        },
        "outputId": "f8167e22-9be9-4c4d-ba5a-bb24241e5c08"
      },
      "execution_count": 6,
      "outputs": [
        {
          "output_type": "error",
          "ename": "FileNotFoundError",
          "evalue": "ignored",
          "traceback": [
            "\u001b[0;31m---------------------------------------------------------------------------\u001b[0m",
            "\u001b[0;31mFileNotFoundError\u001b[0m                         Traceback (most recent call last)",
            "\u001b[0;32m<ipython-input-6-78da19aa517e>\u001b[0m in \u001b[0;36m<cell line: 2>\u001b[0;34m()\u001b[0m\n\u001b[1;32m      1\u001b[0m \u001b[0;31m#ΕΙΣΑΓΩΓΗ ΑΡΧΕΙΟΥ-ΔΙΑΜΕΡΙΣΗ-ΚΑΝΟΝΙΚΟΠΟΙΗΣΗ\u001b[0m\u001b[0;34m\u001b[0m\u001b[0;34m\u001b[0m\u001b[0m\n\u001b[0;32m----> 2\u001b[0;31m \u001b[0mdf\u001b[0m \u001b[0;34m=\u001b[0m \u001b[0mpd\u001b[0m\u001b[0;34m.\u001b[0m\u001b[0mread_csv\u001b[0m\u001b[0;34m(\u001b[0m\u001b[0;34m'ΔΕΔΟΜΕΝΑ ΤΥΧΑΙΟΥ ΠΕΙΡΑΜΑΤΟΣ.csv'\u001b[0m\u001b[0;34m,\u001b[0m\u001b[0mheader\u001b[0m\u001b[0;34m=\u001b[0m\u001b[0;32mNone\u001b[0m\u001b[0;34m,\u001b[0m\u001b[0msep\u001b[0m\u001b[0;34m=\u001b[0m\u001b[0;34m\",\"\u001b[0m\u001b[0;34m)\u001b[0m\u001b[0;34m\u001b[0m\u001b[0;34m\u001b[0m\u001b[0m\n\u001b[0m\u001b[1;32m      3\u001b[0m \u001b[0mprint\u001b[0m\u001b[0;34m(\u001b[0m\u001b[0mdf\u001b[0m\u001b[0;34m.\u001b[0m\u001b[0mshape\u001b[0m\u001b[0;34m)\u001b[0m\u001b[0;34m\u001b[0m\u001b[0;34m\u001b[0m\u001b[0m\n\u001b[1;32m      4\u001b[0m \u001b[0;31m# Split data into X and Y\u001b[0m\u001b[0;34m\u001b[0m\u001b[0;34m\u001b[0m\u001b[0m\n\u001b[1;32m      5\u001b[0m \u001b[0mX\u001b[0m\u001b[0;34m=\u001b[0m\u001b[0mdf\u001b[0m\u001b[0;34m.\u001b[0m\u001b[0miloc\u001b[0m\u001b[0;34m[\u001b[0m\u001b[0;34m:\u001b[0m\u001b[0;34m,\u001b[0m\u001b[0;36m0\u001b[0m\u001b[0;34m:\u001b[0m\u001b[0;36m3\u001b[0m\u001b[0;34m]\u001b[0m\u001b[0;34m\u001b[0m\u001b[0;34m\u001b[0m\u001b[0m\n",
            "\u001b[0;32m/usr/local/lib/python3.9/dist-packages/pandas/util/_decorators.py\u001b[0m in \u001b[0;36mwrapper\u001b[0;34m(*args, **kwargs)\u001b[0m\n\u001b[1;32m    209\u001b[0m                 \u001b[0;32melse\u001b[0m\u001b[0;34m:\u001b[0m\u001b[0;34m\u001b[0m\u001b[0;34m\u001b[0m\u001b[0m\n\u001b[1;32m    210\u001b[0m                     \u001b[0mkwargs\u001b[0m\u001b[0;34m[\u001b[0m\u001b[0mnew_arg_name\u001b[0m\u001b[0;34m]\u001b[0m \u001b[0;34m=\u001b[0m \u001b[0mnew_arg_value\u001b[0m\u001b[0;34m\u001b[0m\u001b[0;34m\u001b[0m\u001b[0m\n\u001b[0;32m--> 211\u001b[0;31m             \u001b[0;32mreturn\u001b[0m \u001b[0mfunc\u001b[0m\u001b[0;34m(\u001b[0m\u001b[0;34m*\u001b[0m\u001b[0margs\u001b[0m\u001b[0;34m,\u001b[0m \u001b[0;34m**\u001b[0m\u001b[0mkwargs\u001b[0m\u001b[0;34m)\u001b[0m\u001b[0;34m\u001b[0m\u001b[0;34m\u001b[0m\u001b[0m\n\u001b[0m\u001b[1;32m    212\u001b[0m \u001b[0;34m\u001b[0m\u001b[0m\n\u001b[1;32m    213\u001b[0m         \u001b[0;32mreturn\u001b[0m \u001b[0mcast\u001b[0m\u001b[0;34m(\u001b[0m\u001b[0mF\u001b[0m\u001b[0;34m,\u001b[0m \u001b[0mwrapper\u001b[0m\u001b[0;34m)\u001b[0m\u001b[0;34m\u001b[0m\u001b[0;34m\u001b[0m\u001b[0m\n",
            "\u001b[0;32m/usr/local/lib/python3.9/dist-packages/pandas/util/_decorators.py\u001b[0m in \u001b[0;36mwrapper\u001b[0;34m(*args, **kwargs)\u001b[0m\n\u001b[1;32m    329\u001b[0m                     \u001b[0mstacklevel\u001b[0m\u001b[0;34m=\u001b[0m\u001b[0mfind_stack_level\u001b[0m\u001b[0;34m(\u001b[0m\u001b[0;34m)\u001b[0m\u001b[0;34m,\u001b[0m\u001b[0;34m\u001b[0m\u001b[0;34m\u001b[0m\u001b[0m\n\u001b[1;32m    330\u001b[0m                 )\n\u001b[0;32m--> 331\u001b[0;31m             \u001b[0;32mreturn\u001b[0m \u001b[0mfunc\u001b[0m\u001b[0;34m(\u001b[0m\u001b[0;34m*\u001b[0m\u001b[0margs\u001b[0m\u001b[0;34m,\u001b[0m \u001b[0;34m**\u001b[0m\u001b[0mkwargs\u001b[0m\u001b[0;34m)\u001b[0m\u001b[0;34m\u001b[0m\u001b[0;34m\u001b[0m\u001b[0m\n\u001b[0m\u001b[1;32m    332\u001b[0m \u001b[0;34m\u001b[0m\u001b[0m\n\u001b[1;32m    333\u001b[0m         \u001b[0;31m# error: \"Callable[[VarArg(Any), KwArg(Any)], Any]\" has no\u001b[0m\u001b[0;34m\u001b[0m\u001b[0;34m\u001b[0m\u001b[0m\n",
            "\u001b[0;32m/usr/local/lib/python3.9/dist-packages/pandas/io/parsers/readers.py\u001b[0m in \u001b[0;36mread_csv\u001b[0;34m(filepath_or_buffer, sep, delimiter, header, names, index_col, usecols, squeeze, prefix, mangle_dupe_cols, dtype, engine, converters, true_values, false_values, skipinitialspace, skiprows, skipfooter, nrows, na_values, keep_default_na, na_filter, verbose, skip_blank_lines, parse_dates, infer_datetime_format, keep_date_col, date_parser, dayfirst, cache_dates, iterator, chunksize, compression, thousands, decimal, lineterminator, quotechar, quoting, doublequote, escapechar, comment, encoding, encoding_errors, dialect, error_bad_lines, warn_bad_lines, on_bad_lines, delim_whitespace, low_memory, memory_map, float_precision, storage_options)\u001b[0m\n\u001b[1;32m    948\u001b[0m     \u001b[0mkwds\u001b[0m\u001b[0;34m.\u001b[0m\u001b[0mupdate\u001b[0m\u001b[0;34m(\u001b[0m\u001b[0mkwds_defaults\u001b[0m\u001b[0;34m)\u001b[0m\u001b[0;34m\u001b[0m\u001b[0;34m\u001b[0m\u001b[0m\n\u001b[1;32m    949\u001b[0m \u001b[0;34m\u001b[0m\u001b[0m\n\u001b[0;32m--> 950\u001b[0;31m     \u001b[0;32mreturn\u001b[0m \u001b[0m_read\u001b[0m\u001b[0;34m(\u001b[0m\u001b[0mfilepath_or_buffer\u001b[0m\u001b[0;34m,\u001b[0m \u001b[0mkwds\u001b[0m\u001b[0;34m)\u001b[0m\u001b[0;34m\u001b[0m\u001b[0;34m\u001b[0m\u001b[0m\n\u001b[0m\u001b[1;32m    951\u001b[0m \u001b[0;34m\u001b[0m\u001b[0m\n\u001b[1;32m    952\u001b[0m \u001b[0;34m\u001b[0m\u001b[0m\n",
            "\u001b[0;32m/usr/local/lib/python3.9/dist-packages/pandas/io/parsers/readers.py\u001b[0m in \u001b[0;36m_read\u001b[0;34m(filepath_or_buffer, kwds)\u001b[0m\n\u001b[1;32m    603\u001b[0m \u001b[0;34m\u001b[0m\u001b[0m\n\u001b[1;32m    604\u001b[0m     \u001b[0;31m# Create the parser.\u001b[0m\u001b[0;34m\u001b[0m\u001b[0;34m\u001b[0m\u001b[0m\n\u001b[0;32m--> 605\u001b[0;31m     \u001b[0mparser\u001b[0m \u001b[0;34m=\u001b[0m \u001b[0mTextFileReader\u001b[0m\u001b[0;34m(\u001b[0m\u001b[0mfilepath_or_buffer\u001b[0m\u001b[0;34m,\u001b[0m \u001b[0;34m**\u001b[0m\u001b[0mkwds\u001b[0m\u001b[0;34m)\u001b[0m\u001b[0;34m\u001b[0m\u001b[0;34m\u001b[0m\u001b[0m\n\u001b[0m\u001b[1;32m    606\u001b[0m \u001b[0;34m\u001b[0m\u001b[0m\n\u001b[1;32m    607\u001b[0m     \u001b[0;32mif\u001b[0m \u001b[0mchunksize\u001b[0m \u001b[0;32mor\u001b[0m \u001b[0miterator\u001b[0m\u001b[0;34m:\u001b[0m\u001b[0;34m\u001b[0m\u001b[0;34m\u001b[0m\u001b[0m\n",
            "\u001b[0;32m/usr/local/lib/python3.9/dist-packages/pandas/io/parsers/readers.py\u001b[0m in \u001b[0;36m__init__\u001b[0;34m(self, f, engine, **kwds)\u001b[0m\n\u001b[1;32m   1440\u001b[0m \u001b[0;34m\u001b[0m\u001b[0m\n\u001b[1;32m   1441\u001b[0m         \u001b[0mself\u001b[0m\u001b[0;34m.\u001b[0m\u001b[0mhandles\u001b[0m\u001b[0;34m:\u001b[0m \u001b[0mIOHandles\u001b[0m \u001b[0;34m|\u001b[0m \u001b[0;32mNone\u001b[0m \u001b[0;34m=\u001b[0m \u001b[0;32mNone\u001b[0m\u001b[0;34m\u001b[0m\u001b[0;34m\u001b[0m\u001b[0m\n\u001b[0;32m-> 1442\u001b[0;31m         \u001b[0mself\u001b[0m\u001b[0;34m.\u001b[0m\u001b[0m_engine\u001b[0m \u001b[0;34m=\u001b[0m \u001b[0mself\u001b[0m\u001b[0;34m.\u001b[0m\u001b[0m_make_engine\u001b[0m\u001b[0;34m(\u001b[0m\u001b[0mf\u001b[0m\u001b[0;34m,\u001b[0m \u001b[0mself\u001b[0m\u001b[0;34m.\u001b[0m\u001b[0mengine\u001b[0m\u001b[0;34m)\u001b[0m\u001b[0;34m\u001b[0m\u001b[0;34m\u001b[0m\u001b[0m\n\u001b[0m\u001b[1;32m   1443\u001b[0m \u001b[0;34m\u001b[0m\u001b[0m\n\u001b[1;32m   1444\u001b[0m     \u001b[0;32mdef\u001b[0m \u001b[0mclose\u001b[0m\u001b[0;34m(\u001b[0m\u001b[0mself\u001b[0m\u001b[0;34m)\u001b[0m \u001b[0;34m->\u001b[0m \u001b[0;32mNone\u001b[0m\u001b[0;34m:\u001b[0m\u001b[0;34m\u001b[0m\u001b[0;34m\u001b[0m\u001b[0m\n",
            "\u001b[0;32m/usr/local/lib/python3.9/dist-packages/pandas/io/parsers/readers.py\u001b[0m in \u001b[0;36m_make_engine\u001b[0;34m(self, f, engine)\u001b[0m\n\u001b[1;32m   1733\u001b[0m                 \u001b[0;32mif\u001b[0m \u001b[0;34m\"b\"\u001b[0m \u001b[0;32mnot\u001b[0m \u001b[0;32min\u001b[0m \u001b[0mmode\u001b[0m\u001b[0;34m:\u001b[0m\u001b[0;34m\u001b[0m\u001b[0;34m\u001b[0m\u001b[0m\n\u001b[1;32m   1734\u001b[0m                     \u001b[0mmode\u001b[0m \u001b[0;34m+=\u001b[0m \u001b[0;34m\"b\"\u001b[0m\u001b[0;34m\u001b[0m\u001b[0;34m\u001b[0m\u001b[0m\n\u001b[0;32m-> 1735\u001b[0;31m             self.handles = get_handle(\n\u001b[0m\u001b[1;32m   1736\u001b[0m                 \u001b[0mf\u001b[0m\u001b[0;34m,\u001b[0m\u001b[0;34m\u001b[0m\u001b[0;34m\u001b[0m\u001b[0m\n\u001b[1;32m   1737\u001b[0m                 \u001b[0mmode\u001b[0m\u001b[0;34m,\u001b[0m\u001b[0;34m\u001b[0m\u001b[0;34m\u001b[0m\u001b[0m\n",
            "\u001b[0;32m/usr/local/lib/python3.9/dist-packages/pandas/io/common.py\u001b[0m in \u001b[0;36mget_handle\u001b[0;34m(path_or_buf, mode, encoding, compression, memory_map, is_text, errors, storage_options)\u001b[0m\n\u001b[1;32m    854\u001b[0m         \u001b[0;32mif\u001b[0m \u001b[0mioargs\u001b[0m\u001b[0;34m.\u001b[0m\u001b[0mencoding\u001b[0m \u001b[0;32mand\u001b[0m \u001b[0;34m\"b\"\u001b[0m \u001b[0;32mnot\u001b[0m \u001b[0;32min\u001b[0m \u001b[0mioargs\u001b[0m\u001b[0;34m.\u001b[0m\u001b[0mmode\u001b[0m\u001b[0;34m:\u001b[0m\u001b[0;34m\u001b[0m\u001b[0;34m\u001b[0m\u001b[0m\n\u001b[1;32m    855\u001b[0m             \u001b[0;31m# Encoding\u001b[0m\u001b[0;34m\u001b[0m\u001b[0;34m\u001b[0m\u001b[0m\n\u001b[0;32m--> 856\u001b[0;31m             handle = open(\n\u001b[0m\u001b[1;32m    857\u001b[0m                 \u001b[0mhandle\u001b[0m\u001b[0;34m,\u001b[0m\u001b[0;34m\u001b[0m\u001b[0;34m\u001b[0m\u001b[0m\n\u001b[1;32m    858\u001b[0m                 \u001b[0mioargs\u001b[0m\u001b[0;34m.\u001b[0m\u001b[0mmode\u001b[0m\u001b[0;34m,\u001b[0m\u001b[0;34m\u001b[0m\u001b[0;34m\u001b[0m\u001b[0m\n",
            "\u001b[0;31mFileNotFoundError\u001b[0m: [Errno 2] No such file or directory: 'ΔΕΔΟΜΕΝΑ ΤΥΧΑΙΟΥ ΠΕΙΡΑΜΑΤΟΣ.csv'"
          ]
        }
      ]
    },
    {
      "cell_type": "code",
      "source": [],
      "metadata": {
        "id": "ExgKlvF2MpMO"
      },
      "execution_count": null,
      "outputs": []
    },
    {
      "cell_type": "code",
      "source": [
        "#@title\n"
      ],
      "metadata": {
        "cellView": "form",
        "id": "f-Ktjy0pMpmN"
      },
      "execution_count": null,
      "outputs": []
    },
    {
      "cell_type": "markdown",
      "source": [],
      "metadata": {
        "id": "_FCFvOPwMp4N"
      }
    },
    {
      "cell_type": "code",
      "source": [],
      "metadata": {
        "id": "l-qgHxUdMqLX"
      },
      "execution_count": null,
      "outputs": []
    },
    {
      "cell_type": "code",
      "source": [
        "# Create model\n",
        "model_aprox = Sequential()\n",
        "model_aprox.add(Dense(200, activation='relu', input_dim=3))\n",
        "model_aprox.add(Dense(100, activation='relu'))\n",
        "model_aprox.add(Dense(1))\n",
        "\n",
        "model_aprox.compile(optimizer=\"Adam\", loss=\"mse\")\n",
        "\n",
        "# Train model\n",
        "model_aprox.fit(X_train, Y_train, epochs=800, batch_size=10)\n",
        "\n",
        "# Evaluate model\n",
        "loss_aprox = model_aprox.evaluate(X_test, Y_test)\n",
        "y_pred_aprox = model_aprox.predict(X_train)\n",
        "print('Test loss:', loss_aprox)\n",
        "\n",
        "\n",
        "counter_aprox_lower=0\n",
        "counter_aprox_upperr=0\n",
        "list_of_abs_dif_y_aprox=[]\n",
        "for i in range(0,len(y_pred_aprox)):\n",
        "  dif_aprox=Y_train[i]-y_pred_aprox[i]\n",
        "  if dif_aprox>0:\n",
        "    counter_aprox_lower=counter_aprox_lower+1\n",
        "  else:\n",
        "    counter_aprox_upperr=counter_aprox_upperr+1\n",
        "  abs_dif_aprox=abs(Y_train[i]-y_pred_aprox[i])\n",
        "  list_of_abs_dif_y_aprox=list_of_abs_dif_y_aprox+[[abs_dif_aprox]]\n",
        "\n",
        "print(\"y_aprox_lower:\",counter_aprox_lower,\"y_aprox_upper:\",counter_aprox_upperr)\n",
        "max_dif=max(list_of_abs_dif_y_aprox)\n",
        "min_dif=min(list_of_abs_dif_y_aprox)\n",
        "print(\"Μεγιστη διαφορα: \",max_dif[0][0],\"Ελάχιστη διαφορα: \",min_dif[0][0])"
      ],
      "metadata": {
        "id": "R8nIcJ8lT1X6"
      },
      "execution_count": null,
      "outputs": []
    },
    {
      "cell_type": "code",
      "source": [
        "#ΔΗΜΙΟΥΡΓΙΑ ΤΩΝ 2 ΝΕΥΡΩΝΙΚΩΝ ΔΙΚΤΥΩΝ LOWER ΚΑΙ UPPER\n",
        "\n",
        "\n",
        "\n",
        "#Ορισμός μεταβλητής μετατόπισης\n",
        "metatopisi=max_dif[0][0]+0.3\n",
        "print(\"Η ματατοπιση της error function είναι :\", metatopisi)\n",
        "\n",
        "\n",
        "\n",
        "######### LOWER NN #################\n",
        "\n",
        "# Define custom loss function\n",
        "def custom_loss_lower(y_true, y_pred):\n",
        "  lower=K.square(y_pred-y_true+metatopisi)\n",
        "  loss=K.mean(lower)\n",
        "  return loss\n",
        "\n",
        "# Create model\n",
        "model_lower = Sequential()\n",
        "model_lower.add(Dense(200, activation='relu', input_dim=3))\n",
        "model_lower.add(Dense(100, activation='relu'))\n",
        "model_lower.add(Dense(1))\n",
        "\n",
        "model_lower.compile(optimizer=\"Adam\", loss=custom_loss_lower)\n",
        "\n",
        "# Train model\n",
        "model_lower.fit(X_train, Y_train, epochs=800, batch_size=10)\n",
        "\n",
        "# Evaluate model\n",
        "loss_lower = model_lower.evaluate(X_test, Y_test)\n",
        "y_pred_lower = model_lower.predict(X_test)\n",
        "print('Test loss:', loss_lower)\n",
        "\n",
        "\n",
        "######### UPPER NN #################\n",
        "\n",
        "# Define custom loss function\n",
        "def custom_loss_upper(y_true, y_pred):\n",
        "  upper=K.square(y_pred-y_true-metatopisi)\n",
        "  loss=K.mean(upper)\n",
        "  return loss\n",
        "\n",
        "# Create model\n",
        "model_upper = Sequential()\n",
        "model_upper.add(Dense(200, activation='relu', input_dim=3))\n",
        "model_upper.add(Dense(100, activation='relu'))\n",
        "model_upper.add(Dense(1))\n",
        "\n",
        "model_upper.compile(optimizer=\"Adam\", loss=custom_loss_upper)\n",
        "\n",
        "# Train model\n",
        "model_upper.fit(X_train, Y_train, epochs=800, batch_size=10)\n",
        "\n",
        "# Evaluate model\n",
        "loss_upper = model_upper.evaluate(X_test, Y_test)\n",
        "y_pred_upper = model_upper.predict(X_test)\n",
        "print('Test loss:', loss_upper)\n",
        "\n",
        "\n",
        "\n",
        "\n",
        "\n",
        "\n"
      ],
      "metadata": {
        "id": "5HbBwkTQIEPo"
      },
      "execution_count": null,
      "outputs": []
    },
    {
      "cell_type": "code",
      "source": [
        "# ΕΜΦΑΝΙΣΗ ΑΠΟΤΕΛΕΣΜΑΤΩΝ\n",
        "#ΠΡΑΓΜΑΤΙΚΗ ΤΙΜΗ ΚΑΙ ΤΟ ΔΙΑΣΤΗΜΑ ΠΡΟΒΛΕΨΗΣ\n",
        "\n",
        "# ΑΠΟΤΕΛΕΣΜΑ ΕΠΙΤΥΧΩΝ ΑΠΟΤΕΛΕΣΜΑΤΩΝ ΓΙΑ ΚΑΤΩ ΟΡΙΟ\n",
        "counter_lower=0\n",
        "counter_false_lower=0\n",
        "for i in range(0,len(y_pred_lower)):\n",
        "  dif_lower=Y_test[i]-y_pred_lower[i]\n",
        "  if dif_lower>0:\n",
        "    counter_lower=counter_lower+1\n",
        "  else:\n",
        "    counter_false_lower=counter_false_lower+1\n",
        "print(\"ΑΠΟΤΕΛΕΣΜΑ ΕΠΙΤΥΧΩΝ ΑΠΟΤΕΛΕΣΜΑΤΩΝ ΓΙΑ ΚΑΤΩ ΟΡΙΟ\")    \n",
        "print(\"y_pred_lower:\",counter_lower,\"False:\",counter_false_lower)\n",
        "\n",
        "# ΑΠΟΤΕΛΕΣΜΑ ΕΠΙΤΥΧΩΝ ΑΠΟΤΕΛΕΣΜΑΤΩΝ ΓΙΑ ΠΑΝΩ ΟΡΙΟ\n",
        "counter_upper=0\n",
        "counter_false_upper=0\n",
        "for i in range(0,len(y_pred_upper)):\n",
        "  dif_upper=Y_test[i]-y_pred_upper[i]\n",
        "  if dif_upper<0:\n",
        "    counter_upper=counter_upper+1\n",
        "  else:\n",
        "    counter_false_upper=counter_false_upper+1\n",
        "print(\"\\nΑΠΟΤΕΛΕΣΜΑ ΕΠΙΤΥΧΩΝ ΑΠΟΤΕΛΕΣΜΑΤΩΝ ΓΙΑ ΠΑΝΩ ΟΡΙΟ\")   \n",
        "print(\"y_pred_upper:\",counter_upper,\"False:\",counter_false_upper,\"\\n\")\n",
        "#for i in range (0,len(pososto_diaforas_upper)):\n",
        "# print(abs(pososto_diaforas_upper[i][0]))\n",
        "epitixia=0\n",
        "for i in range (0,len(Y_test)):\n",
        "  \n",
        "  if Y_test[i]>y_pred_lower[i] and Y_test[i]<y_pred_upper[i]:\n",
        "    epitixia=\"ΕΠΙΤΥΧΙΑ\"\n",
        "  else:\n",
        "    epitixia=\"@@AΠΟΤΥΧΙΑ@@\"\n",
        "  \n",
        "  range_interval=(y_pred_upper[i][0]-y_pred_lower[i][0])/2\n",
        "  mid_point=(y_pred_upper[i][0]+y_pred_lower[i][0])/2\n",
        "  print(i,\"   Πραγματικη τιμή :\",Y_test[i],\"       \",\"Διάστημα πρόβλεψης :\",\"[\",y_pred_lower[i][0],y_pred_upper[i][0],\"]    \",epitixia,\"\\n\",\"  ΜΕΣΟ ΔΙΑΣΤΗΜΑΤΟΣ : \",mid_point,\"  ΑΚΤΙΝΑ ΔΙΑΣΤΗΜΑΤΟΣ\",range_interval, \"\\n\" )"
      ],
      "metadata": {
        "id": "SYpnea5YJ-EJ"
      },
      "execution_count": null,
      "outputs": []
    }
  ]
}